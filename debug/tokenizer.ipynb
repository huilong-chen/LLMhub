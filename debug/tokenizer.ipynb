{
 "cells": [
  {
   "cell_type": "code",
   "id": "initial_id",
   "metadata": {
    "collapsed": true,
    "ExecuteTime": {
     "end_time": "2024-07-21T03:01:28.498061Z",
     "start_time": "2024-07-21T03:01:27.079888Z"
    }
   },
   "source": [
    "from transformers import AutoTokenizer\n",
    "tokenizer = AutoTokenizer.from_pretrained('../model/Qwen2-7B')\n",
    "tokenizer\n"
   ],
   "outputs": [
    {
     "name": "stderr",
     "output_type": "stream",
     "text": [
      "Special tokens have been added in the vocabulary, make sure the associated word embeddings are fine-tuned or trained.\n"
     ]
    },
    {
     "data": {
      "text/plain": [
       "Qwen2TokenizerFast(name_or_path='../model/Qwen2-7B', vocab_size=151643, model_max_length=32768, is_fast=True, padding_side='right', truncation_side='right', special_tokens={'eos_token': '<|endoftext|>', 'pad_token': '<|endoftext|>', 'additional_special_tokens': ['<|im_start|>', '<|im_end|>']}, clean_up_tokenization_spaces=False),  added_tokens_decoder={\n",
       "\t151643: AddedToken(\"<|endoftext|>\", rstrip=False, lstrip=False, single_word=False, normalized=False, special=True),\n",
       "\t151644: AddedToken(\"<|im_start|>\", rstrip=False, lstrip=False, single_word=False, normalized=False, special=True),\n",
       "\t151645: AddedToken(\"<|im_end|>\", rstrip=False, lstrip=False, single_word=False, normalized=False, special=True),\n",
       "}"
      ]
     },
     "execution_count": 1,
     "metadata": {},
     "output_type": "execute_result"
    }
   ],
   "execution_count": 1
  },
  {
   "metadata": {
    "ExecuteTime": {
     "end_time": "2024-07-21T03:02:15.677307Z",
     "start_time": "2024-07-21T03:02:15.660829Z"
    }
   },
   "cell_type": "code",
   "source": [
    "text = \"明天的天气怎么样？\"\n",
    "\n",
    "tokenizer.encode(text)"
   ],
   "id": "a3bee22350614bfb",
   "outputs": [
    {
     "data": {
      "text/plain": [
       "[104807, 9370, 104307, 104472, 11319]"
      ]
     },
     "execution_count": 2,
     "metadata": {},
     "output_type": "execute_result"
    }
   ],
   "execution_count": 2
  },
  {
   "metadata": {
    "ExecuteTime": {
     "end_time": "2024-07-21T03:02:37.277673Z",
     "start_time": "2024-07-21T03:02:37.270430Z"
    }
   },
   "cell_type": "code",
   "source": "[tokenizer.decode(i) for i in tokenizer.encode(text)]",
   "id": "77b7a40434925ee1",
   "outputs": [
    {
     "data": {
      "text/plain": [
       "['明天', '的', '天气', '怎么样', '？']"
      ]
     },
     "execution_count": 3,
     "metadata": {},
     "output_type": "execute_result"
    }
   ],
   "execution_count": 3
  },
  {
   "metadata": {
    "ExecuteTime": {
     "end_time": "2024-07-21T03:03:23.199912Z",
     "start_time": "2024-07-21T03:03:23.192726Z"
    }
   },
   "cell_type": "code",
   "source": [
    "English_test = \"What will the weather be like tomorrow?\"\n",
    "[tokenizer.decode(i) for i in tokenizer.encode(English_test)]"
   ],
   "id": "974a6000082585d5",
   "outputs": [
    {
     "data": {
      "text/plain": [
       "['What', ' will', ' the', ' weather', ' be', ' like', ' tomorrow', '?']"
      ]
     },
     "execution_count": 4,
     "metadata": {},
     "output_type": "execute_result"
    }
   ],
   "execution_count": 4
  },
  {
   "metadata": {},
   "cell_type": "code",
   "outputs": [],
   "execution_count": null,
   "source": "",
   "id": "3ce95610e65ac9ac"
  }
 ],
 "metadata": {
  "kernelspec": {
   "display_name": "Python 3",
   "language": "python",
   "name": "python3"
  },
  "language_info": {
   "codemirror_mode": {
    "name": "ipython",
    "version": 2
   },
   "file_extension": ".py",
   "mimetype": "text/x-python",
   "name": "python",
   "nbconvert_exporter": "python",
   "pygments_lexer": "ipython2",
   "version": "2.7.6"
  }
 },
 "nbformat": 4,
 "nbformat_minor": 5
}

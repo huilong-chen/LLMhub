{
 "cells": [
  {
   "cell_type": "markdown",
   "metadata": {},
   "source": [
    "# 融合检索在文档搜索中的应用\n",
    "\n",
    "## 概述\n",
    "\n",
    "此代码实现了一个融合检索系统，该系统结合了基于向量的相似性搜索和基于关键词的BM25检索。这种方法旨在利用两种方法的优势，提高文档检索的整体质量和相关性。\n",
    "\n",
    "BM25是一种用于信息检索和搜索引擎的排名函数，它基于概率检索模型。BM25是Best Matching 25的缩写，由Stephen Robertson、Karen Spärck Jones、Mandy Walker和Clare Walker于1994年提出的。它是基于BM14算法的改进版本，增加了对文档长度的考虑，以更好地处理不同长度文档的权重分配。\n",
    "\n",
    "BM25的核心思想是，如果一个查询词在文档中出现的频率较高，并且在整个文档集合中出现的频率较低，那么这个文档与查询词的相关性就更高。BM25考虑了以下两个主要因素：\n",
    "\n",
    "1. **词频（TF）**：查询词在文档中出现的频率。BM25使用一个非线性函数来减少常见词的权重，以避免它们对排名的影响过大。\n",
    "\n",
    "2. **逆文档频率（IDF）**：查询词在整个文档集合中出现的频率的倒数。如果一个词在很多文档中都出现，那么它的IDF值会比较低，这意味着它对文档的相关性贡献较小。\n",
    "\n",
    "BM25的公式如下：\n",
    "\n",
    "$$\\text{BM25} = \\sum_{i=1}^{n} \\left( \\frac{(k_1 + 1) \\cdot \\text{TF}_{i,d}}{k_1 \\cdot (1 - b + b \\cdot \\frac{\\text{l}_d}{\\text{avgL}}) + \\text{TF}_{i,d}} \\right) \\cdot \\log \\frac{(k_3 + 1) \\cdot N}{k_3 \\cdot \\text{DF}_i + N}$$\n",
    "\n",
    "其中：\n",
    "- $\\text{TF}_{i,d}$ 是查询词 $i$ 在文档 $d$ 中的词频。\n",
    "\n",
    "- $\\text{DF}_i$ 是查询词 $i$ 在文档集合中的文档频率。\n",
    "\n",
    "- $N$ 是文档集合中的文档总数。\n",
    "\n",
    "- $\\text{l}_d$ 是文档 $d$ 的长度。\n",
    "\n",
    "- $\\text{avgL}$ 是文档集合中所有文档的平均长度。\n",
    "\n",
    "- $k_1$ 和 $b$ 是控制词频和文档长度影响的参数。\n",
    "\n",
    "- $k_3$ 是控制文档频率影响的参数\n",
    "\n",
    "BM25算法广泛应用于现代搜索引擎和文档检索系统中，因其有效性和效率而被广泛认可。\n",
    "\n",
    "\n",
    "## 动机\n",
    "\n",
    "传统的检索方法通常依赖于语义理解（基于向量）或关键词匹配（BM25）。每种方法都有其优点和缺点。融合检索旨在将这些方法结合起来，创建一个更加健壮和准确的检索系统，可以有效地处理更广泛的查询。\n",
    "\n",
    "## 关键组件\n",
    "\n",
    "1. PDF处理和文本分块\n",
    "2. 使用FAISS和OpenAI嵌入创建向量存储\n",
    "3. 为基于关键词的检索创建BM25索引\n",
    "4. 自定义融合检索函数，结合了两种方法\n",
    "\n",
    "## 方法细节\n",
    "\n",
    "### 文档预处理\n",
    "\n",
    "1. 加载PDF并使用RecursiveCharacterTextSplitter将其分割成块。\n",
    "2. 通过将't'替换为空白来清理块（可能解决了特定的格式问题）。\n",
    "\n",
    "### 向量存储创建\n",
    "\n",
    "1. 使用OpenAI嵌入为文本块创建向量表示。\n",
    "2. 从这些嵌入创建FAISS向量存储，以实现高效的相似性搜索。\n",
    "\n",
    "### BM25索引创建\n",
    "\n",
    "1. 从用于向量存储的相同文本块创建BM25索引。\n",
    "2. 这允许在基于向量的方法旁边进行基于关键词的检索。\n",
    "\n",
    "### 融合检索函数\n",
    "\n",
    "`fusion_retrieval` 函数是此实现的核心：\n",
    "\n",
    "1. 它接受一个查询并执行基于向量和基于BM25的检索。\n",
    "2. 来自两种方法的分数被归一化到一个共同的尺度。\n",
    "3. 计算这些分数的加权组合（由`alpha`参数控制）。\n",
    "4. 根据组合分数对文档进行排名，并返回前k个结果。\n",
    "\n",
    "## 这种方法的好处\n",
    "\n",
    "1. 改进的检索质量：通过结合语义和基于关键词的搜索，系统可以捕捉概念相似性和精确的关键词匹配。\n",
    "2. 灵活性：`alpha`参数允许根据特定用例或查询类型调整向量和关键词搜索之间的平衡。\n",
    "3. 健壮性：组合方法可以有效地处理更广泛的查询，减轻了个别方法的弱点。\n",
    "4. 可定制性：系统可以轻松适应使用不同的向量存储或基于关键词的检索方法。\n",
    "\n",
    "## 结论\n",
    "\n",
    "融合检索代表了一种强大的文档搜索方法，它结合了语义理解和关键词匹配的优势。通过利用基于向量和BM25的检索方法，它为信息检索任务提供了一个更全面和灵活的解决方案。这种方法在许多领域都有潜在的应用，其中概念相似性和关键词相关性都很重要，例如学术研究、法律文档搜索或通用搜索引擎。\n"
   ]
  },
  {
   "cell_type": "markdown",
   "metadata": {},
   "source": [
    "<div style=\"text-align: center;\">\n",
    "\n",
    "<img src=\"../images/fusion_retrieval.svg\" alt=\"Fusion Retrieval\" style=\"width:100%; height:auto;\">\n",
    "</div>"
   ]
  },
  {
   "cell_type": "markdown",
   "metadata": {},
   "source": [
    "### Import libraries "
   ]
  },
  {
   "cell_type": "code",
   "metadata": {
    "ExecuteTime": {
     "end_time": "2024-08-25T07:08:00.934809Z",
     "start_time": "2024-08-25T07:08:00.735350Z"
    }
   },
   "source": [
    "import os\n",
    "import sys\n",
    "from dotenv import load_dotenv\n",
    "from langchain.docstore.document import Document\n",
    "# Load environment variables from a .env file\n",
    "load_dotenv()\n",
    "\n",
    "from typing import List\n",
    "from rank_bm25 import BM25Okapi\n",
    "import numpy as np\n",
    "\n",
    "\n",
    "sys.path.append(os.path.abspath(os.path.join(os.getcwd(), '..'))) # Add the parent directory to the path sicnce we work with notebooks\n",
    "from rag.helper_functions import *\n",
    "from rag.evaluation.evalute_rag import *\n",
    "\n",
    "# Set the OpenAI API key environment variable\n",
    "os.environ[\"OPENAI_API_KEY\"] = os.getenv('OPENAI_API_KEY')"
   ],
   "outputs": [],
   "execution_count": 2
  },
  {
   "cell_type": "markdown",
   "metadata": {},
   "source": [
    "### Define document path"
   ]
  },
  {
   "cell_type": "code",
   "metadata": {
    "ExecuteTime": {
     "end_time": "2024-08-25T07:08:03.956057Z",
     "start_time": "2024-08-25T07:08:03.953311Z"
    }
   },
   "source": [
    "path = \"../data/Understanding_Climate_Change.pdf\""
   ],
   "outputs": [],
   "execution_count": 3
  },
  {
   "cell_type": "markdown",
   "metadata": {},
   "source": "### 将PDF编码为向量存储，并返回上一步拆分的文档以创建BM25实例。"
  },
  {
   "cell_type": "code",
   "metadata": {
    "ExecuteTime": {
     "end_time": "2024-08-25T07:09:42.949204Z",
     "start_time": "2024-08-25T07:09:42.943871Z"
    }
   },
   "source": [
    "def encode_pdf_and_get_split_documents(path, chunk_size=1000, chunk_overlap=200):\n",
    "    \"\"\"\n",
    "    将PDF书籍使用OpenAI嵌入编码到向量存储中。\n",
    "\n",
    "    参数：\n",
    "        path: PDF文件的路径。\n",
    "        chunk_size: 每个文本块的期望大小。\n",
    "        chunk_overlap: 连续块之间的重叠量。\n",
    "\n",
    "    返回：\n",
    "        包含编码书籍内容的FAISS向量存储。\n",
    "    \"\"\"\n",
    "\n",
    "    # Load PDF documents\n",
    "    loader = PyPDFLoader(path)\n",
    "    documents = loader.load()\n",
    "\n",
    "    # Split documents into chunks\n",
    "    text_splitter = RecursiveCharacterTextSplitter(\n",
    "        chunk_size=chunk_size, chunk_overlap=chunk_overlap, length_function=len\n",
    "    )\n",
    "    texts = text_splitter.split_documents(documents)\n",
    "    cleaned_texts = replace_t_with_space(texts)\n",
    "\n",
    "    # Create embeddings and vector store\n",
    "    embeddings = OpenAIEmbeddings()\n",
    "    vectorstore = FAISS.from_documents(cleaned_texts, embeddings)\n",
    "\n",
    "    return vectorstore, cleaned_texts"
   ],
   "outputs": [],
   "execution_count": 4
  },
  {
   "cell_type": "markdown",
   "metadata": {},
   "source": "### 创建向量存储并获取分块文档。"
  },
  {
   "cell_type": "code",
   "metadata": {
    "ExecuteTime": {
     "end_time": "2024-08-25T07:11:14.969383Z",
     "start_time": "2024-08-25T07:11:12.048288Z"
    }
   },
   "source": [
    "vectorstore, cleaned_texts = encode_pdf_and_get_split_documents(path)"
   ],
   "outputs": [],
   "execution_count": 5
  },
  {
   "cell_type": "markdown",
   "metadata": {},
   "source": "### 创建一个BM25索引以通过关键词检索文档。"
  },
  {
   "cell_type": "code",
   "metadata": {
    "ExecuteTime": {
     "end_time": "2024-08-25T07:12:31.152998Z",
     "start_time": "2024-08-25T07:12:31.147600Z"
    }
   },
   "source": [
    "def create_bm25_index(documents: List[Document]) -> BM25Okapi:\n",
    "    \"\"\"\n",
    "    创建一个来自给定文档的BM25索引。\n",
    "\n",
    "    BM25（Best Matching 25）是一种用于信息检索的排名函数。\n",
    "    它基于概率检索框架，是对TF-IDF的改进。\n",
    "\n",
    "    参数：\n",
    "    documents (List[Document]): 要索引的文档列表。\n",
    "\n",
    "    返回：\n",
    "    BM25Okapi: 一个可用于BM25评分的索引。\n",
    "    \"\"\"\n",
    "    # 通过在空白处分割来对每个文档进行分词\n",
    "    # 这是一种简单的方法，可以通过更复杂的分词技术进行改进\n",
    "    tokenized_docs = [doc.page_content.split() for doc in documents]\n",
    "    return BM25Okapi(tokenized_docs)"
   ],
   "outputs": [],
   "execution_count": 6
  },
  {
   "cell_type": "code",
   "metadata": {
    "ExecuteTime": {
     "end_time": "2024-08-25T07:12:33.595717Z",
     "start_time": "2024-08-25T07:12:33.587209Z"
    }
   },
   "source": [
    "bm25 = create_bm25_index(cleaned_texts) # Create BM25 index from the cleaned texts (chunks)"
   ],
   "outputs": [],
   "execution_count": 7
  },
  {
   "cell_type": "markdown",
   "metadata": {},
   "source": "### 定义一个函数，该函数通过语义和关键词检索，标准化分数，并获取前k个文档"
  },
  {
   "cell_type": "code",
   "metadata": {
    "ExecuteTime": {
     "end_time": "2024-08-25T07:15:23.368774Z",
     "start_time": "2024-08-25T07:15:23.360809Z"
    }
   },
   "source": [
    "def fusion_retrieval(vectorstore, bm25, query: str, k: int = 5, alpha: float = 0.5) -> List[Document]:\n",
    "    \"\"\"\n",
    "    执行融合检索，结合基于关键词（BM25）和基于向量的搜索。\n",
    "\n",
    "    参数：\n",
    "    vectorstore (VectorStore): 包含文档的向量存储。\n",
    "    bm25 (BM25Okapi): 预先计算的BM25索引。\n",
    "    query (str): 查询字符串。\n",
    "    k (int): 要检索的文档数量。\n",
    "    alpha (float): 向量搜索分数的权重（1-alpha将是BM25分数的权重）。\n",
    "\n",
    "    返回：\n",
    "    List[Document]: 根据组合分数排序的前k个文档。\n",
    "    \"\"\"\n",
    "    # Step 1: 从向量存储中得到所有的文档\n",
    "    all_docs = vectorstore.similarity_search(\"\", k=vectorstore.index.ntotal)\n",
    "\n",
    "    # Step 2: 实施 BM25 搜索\n",
    "    bm25_scores = bm25.get_scores(query.split())\n",
    "\n",
    "    # Step 3: 实施向量搜索\n",
    "    vector_results = vectorstore.similarity_search_with_score(query, k=len(all_docs))\n",
    "    \n",
    "    # Step 4: 归一化分数\n",
    "    vector_scores = np.array([score for _, score in vector_results])\n",
    "    vector_scores = 1 - (vector_scores - np.min(vector_scores)) / (np.max(vector_scores) - np.min(vector_scores))\n",
    "\n",
    "    bm25_scores = (bm25_scores - np.min(bm25_scores)) / (np.max(bm25_scores) - np.min(bm25_scores))\n",
    "\n",
    "    # Step 5: 加权\n",
    "    combined_scores = alpha * vector_scores + (1 - alpha) * bm25_scores  \n",
    "\n",
    "    # Step 6: 根据加权后的分数重排文档\n",
    "    sorted_indices = np.argsort(combined_scores)[::-1]\n",
    "    \n",
    "    # Step 7: 返回分数最大的前k个\n",
    "    return [all_docs[i] for i in sorted_indices[:k]]"
   ],
   "outputs": [],
   "execution_count": 8
  },
  {
   "cell_type": "markdown",
   "metadata": {},
   "source": [
    "### Use Case example"
   ]
  },
  {
   "cell_type": "code",
   "metadata": {
    "ExecuteTime": {
     "end_time": "2024-08-25T07:15:36.339311Z",
     "start_time": "2024-08-25T07:15:34.434589Z"
    }
   },
   "source": [
    "# Query\n",
    "query = \"What are the impacts of climate change on the environment?\"\n",
    "\n",
    "# Perform fusion retrieval\n",
    "top_docs = fusion_retrieval(vectorstore, bm25, query, k=5, alpha=0.5)\n",
    "docs_content = [doc.page_content for doc in top_docs]\n",
    "show_context(docs_content)"
   ],
   "outputs": [
    {
     "name": "stdout",
     "output_type": "stream",
     "text": [
      "Context 1:\n",
      "workshops, and community events. Lifelong learning fosters a culture of con tinuous \n",
      "improvement and adaptability.  \n",
      "Intergenerational Dialogue  \n",
      "Youth Engagement  \n",
      "Engaging youth in climate action is critical for long -term sustainability. Youth bring energy, \n",
      "creativity, and a sense of urgency to climate movements. Providing platforms for youth \n",
      "voices, supporting youth -led initiatives, and involving young people in de cision -making \n",
      "processes are essential for meaningful engagement.  \n",
      "Intergenerational Collaboration  \n",
      "Intergenerational collaboration involves working together across age groups to address \n",
      "climate challenges. This includes mentorship programs, intergenerational projects, and \n",
      "dialogue forums. Sharing knowledge and experiences between generations enhances \n",
      "collective capacity and resilience.\n",
      "\n",
      "\n",
      "Context 2:\n",
      "This vision includes a healthy planet, thriving ecosystems, and equitable societies. Working \n",
      "together towards this vision creates a sense of purpose and motivation . \n",
      "By embracing these principles and taking concerted action, we can address the urgent \n",
      "challenge of climate change and build a sustainable, resilient, and equitable world for all. The \n",
      "path forward requires courage, commitment, and collaboration, but the rewa rds are \n",
      "immense—a thriving planet and a prosperous future for generations to come.  \n",
      "Chapter 13: Climate Change and Social Justice  \n",
      "Climate Justice  \n",
      "Understanding Climate Justice  \n",
      "Climate justice emphasizes the ethical dimensions of climate change, recognizing that its \n",
      "impacts are not evenly distributed. Vulnerable populations, including low -income \n",
      "communities, indigenous peoples, and marginalized groups, often face the greatest ris ks \n",
      "while contributing the least to greenhouse gas emissions. Climate justice advocates for\n",
      "\n",
      "\n",
      "Context 3:\n",
      "Legacy and Responsibility  \n",
      "Recognizing the responsibility to future generations is a fundamental aspect of climate action. \n",
      "This involves making decisions that protect the environment and ensure a sustainable future. \n",
      "Promoting a sense of stewardship and legacy encourages long -term th inking and \n",
      "commitment.  \n",
      "By continuing to innovate, collaborate, and integrate diverse perspectives, we can address the \n",
      "complex and urgent challenge of climate change. Our collective efforts will determine the \n",
      "health and sustainability of our planet for generations to come. Togeth er, we can create a \n",
      "resilient, equitable, and thriving world.\n",
      "\n",
      "\n",
      "Context 4:\n",
      "Legacy for Future Generations  \n",
      "Our actions today shape the world for future generations. Ensuring a sustainable and resilient \n",
      "planet is our responsibility to future generations. By working together, we can create a legacy \n",
      "of environmental stewardship, social equity, and global solidarit y. \n",
      "Chapter 19: Climate Change and Policy  \n",
      "Policy Development and Implementation  \n",
      "National Climate Policies  \n",
      "Countries around the world are developing and implementing national climate policies to \n",
      "address climate change. These policies set emission reduction targets, promote renewable \n",
      "energy, and support adaptation measures. Effective policy implementation requir es\n",
      "\n",
      "\n",
      "Context 5:\n",
      "goals. Policies should promote synergies between biodiversity conservation and climate \n",
      "action.  \n",
      "Chapter 10: Climate Change and Human Health  \n",
      "Health Impacts  \n",
      "Heat -Related Illnesses  \n",
      "Rising temperatures and more frequent heatwaves increase the risk of heat -related illnesses, \n",
      "such as heat exhaustion and heatstroke. Vulnerable populations, including the elderly, \n",
      "children, and outdoor workers, are particularly at risk. Heat mitigation str ategies, such as \n",
      "cooling centers and public health campaigns, are essential.  \n",
      "Vector -Borne Diseases  \n",
      "Climate change affects the distribution and prevalence of vector -borne diseases, such as \n",
      "malaria, dengue fever, and Lyme disease. Warmer temperatures and changing precipitation \n",
      "patterns can expand the habitats of disease -carrying insects, increasing the ri sk of outbreaks. \n",
      "Integrated pest management and disease surveillance are critical for prevention and control.  \n",
      "Respiratory and Cardiovascular Diseases\n",
      "\n",
      "\n"
     ]
    }
   ],
   "execution_count": 9
  },
  {
   "metadata": {},
   "cell_type": "code",
   "outputs": [],
   "execution_count": null,
   "source": ""
  }
 ],
 "metadata": {
  "kernelspec": {
   "display_name": ".venv",
   "language": "python",
   "name": "python3"
  },
  "language_info": {
   "codemirror_mode": {
    "name": "ipython",
    "version": 3
   },
   "file_extension": ".py",
   "mimetype": "text/x-python",
   "name": "python",
   "nbconvert_exporter": "python",
   "pygments_lexer": "ipython3",
   "version": "3.12.0"
  }
 },
 "nbformat": 4,
 "nbformat_minor": 2
}

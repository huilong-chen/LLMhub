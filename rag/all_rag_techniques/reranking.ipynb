{
 "cells": [
  {
   "cell_type": "markdown",
   "metadata": {},
   "source": [
    "\n",
    "# RAG系统中的重排方法\n",
    "\n",
    "## 概览\n",
    "重排在检索增强生成（RAG）系统中是一个关键步骤，旨在提高检索文档的相关性和质量。它涉及重新评估和重新排序最初检索到的文档，以确保最相关的信息被优先用于后续处理或展示。\n",
    "\n",
    "## 动机\n",
    "在RAG系统中进行重排的主要动机是克服初始检索方法的限制，这些方法通常依赖于更简单的相似度指标。重排允许进行更复杂的相关性评估，考虑到查询和文档之间可能被传统检索技术忽视的微妙关系。这一过程旨在通过确保在生成阶段使用最相关信息来提高RAG系统的整体性能。\n",
    "\n",
    "## 关键组成部分\n",
    "重排系统通常包括以下组成部分：\n",
    "\n",
    "1. 初始检索器：通常是一个使用基于嵌入的相似度搜索的向量存储。\n",
    "2. 重排模型：可以是以下任意一种：\n",
    "   - 用于评分相关性的大语言模型（LLM）\n",
    "   - 专门为相关性评估训练的交叉编码器模型\n",
    "3. 评分机制：一种为文档分配相关性分数的方法\n",
    "4. 排序和选择逻辑：根据新分数重新排序文档\n",
    "\n",
    "## 方法细节\n",
    "重排过程通常遵循以下步骤：\n",
    "\n",
    "1. 初始检索：获取一组可能相关的初始文档。\n",
    "2. 对创建：为每个检索到的文档形成查询-文档对。\n",
    "3. 评分：\n",
    "   - LLM方法：使用提示让LLM评估文档的相关性。\n",
    "   - 交叉编码器方法：直接将查询-文档对输入模型。\n",
    "4. 分数解释：解析和标准化相关性分数。\n",
    "5. 重新排序：根据新的相关性分数对文档进行排序。\n",
    "6. 选择：从重新排序的列表中选择前K个文档。\n",
    "\n",
    "## 这种方法的好处\n",
    "重排提供了几个优势：\n",
    "\n",
    "1. 提高相关性：通过使用更复杂的模型，重排可以捕捉到微妙的相关性因素。\n",
    "2. 灵活性：可以根据特定需求和资源应用不同的重排方法。\n",
    "3. 增强上下文质量：向RAG系统提供更相关的文档可以提高生成响应的质量。\n",
    "4. 减少噪声：重排有助于过滤掉不太相关的信息，专注于最相关的内容。\n",
    "\n",
    "## 结论\n",
    "重排在RAG系统中是一种强大的技术，显著提高了检索信息的质量。无论是使用基于LLM的评分还是专门的交叉编码器模型，重排都允许对文档相关性进行更微妙和准确的评估。这种提高的相关性直接转化为下游任务的更好性能，使重排成为高级RAG实现中的一个重要组成部分。\n",
    "\n",
    "选择基于LLM和交叉编码器的重排方法取决于所需准确性、可用计算资源和特定应用需求等因素。两种方法都比基本检索方法提供了实质性的改进，并有助于提高RAG系统的整体有效性。\n",
    "\n"
   ]
  },
  {
   "cell_type": "markdown",
   "metadata": {},
   "source": [
    "### Import relevant libraries"
   ]
  },
  {
   "cell_type": "code",
   "metadata": {
    "ExecuteTime": {
     "end_time": "2024-08-25T08:07:12.175969Z",
     "start_time": "2024-08-25T08:07:12.168615Z"
    }
   },
   "source": [
    "import os\n",
    "import sys\n",
    "from dotenv import load_dotenv\n",
    "from langchain.docstore.document import Document\n",
    "from typing import List, Dict, Any, Tuple\n",
    "from langchain_openai import ChatOpenAI\n",
    "from langchain.chains import RetrievalQA\n",
    "from langchain_core.retrievers import BaseRetriever\n",
    "from sentence_transformers import CrossEncoder\n",
    "\n",
    "# Load environment variables from a .env file\n",
    "load_dotenv()\n",
    "\n",
    "sys.path.append(os.path.abspath(os.path.join(os.getcwd(), '..'))) # Add the parent directory to the path sicnce we work with notebooks\n",
    "from rag.helper_functions import *\n",
    "from rag.evaluation.evalute_rag import *\n",
    "\n",
    "\n",
    "# Set the OpenAI API key environment variable\n",
    "os.environ[\"OPENAI_API_KEY\"] = os.getenv('OPENAI_API_KEY')"
   ],
   "execution_count": 20,
   "outputs": []
  },
  {
   "cell_type": "markdown",
   "metadata": {},
   "source": [
    "### Define the document's path"
   ]
  },
  {
   "cell_type": "code",
   "metadata": {
    "ExecuteTime": {
     "end_time": "2024-08-25T08:07:12.195549Z",
     "start_time": "2024-08-25T08:07:12.193438Z"
    }
   },
   "source": [
    "path = \"../data/Understanding_Climate_Change.pdf\""
   ],
   "outputs": [],
   "execution_count": 21
  },
  {
   "cell_type": "markdown",
   "metadata": {},
   "source": [
    "### Create a vector store"
   ]
  },
  {
   "cell_type": "code",
   "metadata": {
    "ExecuteTime": {
     "end_time": "2024-08-25T08:07:15.216133Z",
     "start_time": "2024-08-25T08:07:12.200732Z"
    }
   },
   "source": [
    "vectorstore = encode_pdf(path)"
   ],
   "outputs": [],
   "execution_count": 22
  },
  {
   "cell_type": "markdown",
   "metadata": {},
   "source": "## 方法一：基于 LLM 的重排"
  },
  {
   "cell_type": "markdown",
   "metadata": {},
   "source": [
    "<div style=\"text-align: center;\">\n",
    "\n",
    "<img src=\"../images/rerank_llm.svg\" alt=\"rerank llm\" style=\"width:40%; height:auto;\">\n",
    "</div>"
   ]
  },
  {
   "cell_type": "markdown",
   "metadata": {},
   "source": "### 自定义重排函数\n"
  },
  {
   "cell_type": "code",
   "metadata": {
    "ExecuteTime": {
     "end_time": "2024-08-25T08:07:15.223714Z",
     "start_time": "2024-08-25T08:07:15.217801Z"
    }
   },
   "source": [
    "class RatingScore(BaseModel):\n",
    "    relevance_score: float = Field(..., description=\"The relevance score of a document to a query.\")\n",
    "\n",
    "def rerank_documents(query: str, docs: List[Document], top_n: int = 3) -> List[Document]:\n",
    "    prompt_template = PromptTemplate(\n",
    "        input_variables=[\"query\", \"doc\"],\n",
    "        template=\"\"\"On a scale of 1-10, rate the relevance of the following document to the query. Consider the specific context and intent of the query, not just keyword matches.\n",
    "        Query: {query}\n",
    "        Document: {doc}\n",
    "        Relevance Score:\"\"\"\n",
    "    )\n",
    "    \n",
    "    llm = ChatOpenAI(temperature=0, model_name=\"gpt-4o\", max_tokens=4000)\n",
    "    llm_chain = prompt_template | llm.with_structured_output(RatingScore)\n",
    "    \n",
    "    scored_docs = []\n",
    "    for doc in docs:\n",
    "        input_data = {\"query\": query, \"doc\": doc.page_content}\n",
    "        score = llm_chain.invoke(input_data).relevance_score\n",
    "        try:\n",
    "            score = float(score)\n",
    "        except ValueError:\n",
    "            score = 0  # Default score if parsing fails\n",
    "        scored_docs.append((doc, score))\n",
    "    reranked_docs = sorted(scored_docs, key=lambda x: x[1], reverse=True)\n",
    "    return [doc for doc, _ in reranked_docs[:top_n]]"
   ],
   "outputs": [],
   "execution_count": 23
  },
  {
   "cell_type": "markdown",
   "metadata": {},
   "source": "### 与文档相关的示例查询中重新排序功能的示例用法"
  },
  {
   "cell_type": "code",
   "metadata": {
    "ExecuteTime": {
     "end_time": "2024-08-25T08:07:26.379863Z",
     "start_time": "2024-08-25T08:07:15.224839Z"
    }
   },
   "source": [
    "query = \"What are the impacts of climate change on biodiversity?\"\n",
    "initial_docs = vectorstore.similarity_search(query, k=15)\n",
    "reranked_docs = rerank_documents(query, initial_docs)\n",
    "\n",
    "# print first 3 initial documents\n",
    "print(\"Top initial documents:\")\n",
    "for i, doc in enumerate(initial_docs[:3]):\n",
    "    print(f\"\\nDocument {i+1}:\")\n",
    "    print(doc.page_content[:200] + \"...\")  # Print first 200 characters of each document\n",
    "\n",
    "\n",
    "# Print results\n",
    "print(f\"Query: {query}\\n\")\n",
    "print(\"Top reranked documents:\")\n",
    "for i, doc in enumerate(reranked_docs):\n",
    "    print(f\"\\nDocument {i+1}:\")\n",
    "    print(doc.page_content[:200] + \"...\")  # Print first 200 characters of each document"
   ],
   "outputs": [
    {
     "name": "stdout",
     "output_type": "stream",
     "text": [
      "Top initial documents:\n",
      "\n",
      "Document 1:\n",
      "Climate change is altering terrestrial ecosystems by shifting habitat ranges, changing species \n",
      "distributions, and impacting ecosystem functions. Forests, grasslands, and deserts are \n",
      "experiencing shi...\n",
      "\n",
      "Document 2:\n",
      "goals. Policies should promote synergies between biodiversity conservation and climate \n",
      "action.  \n",
      "Chapter 10: Climate Change and Human Health  \n",
      "Health Impacts  \n",
      "Heat -Related Illnesses  \n",
      "Rising temper...\n",
      "\n",
      "Document 3:\n",
      "managed retreats.  \n",
      "Extreme Weather Events  \n",
      "Climate change is linked to an increase in the frequency and severity of extreme weather \n",
      "events, such as hurricanes, heatwaves, droughts, and heavy rainfa...\n",
      "Query: What are the impacts of climate change on biodiversity?\n",
      "\n",
      "Top reranked documents:\n",
      "\n",
      "Document 1:\n",
      "Climate change is altering terrestrial ecosystems by shifting habitat ranges, changing species \n",
      "distributions, and impacting ecosystem functions. Forests, grasslands, and deserts are \n",
      "experiencing shi...\n",
      "\n",
      "Document 2:\n",
      "Coral reefs are highly sensitive to changes in temperature and acidity. Ocean acidification \n",
      "and warming waters contribute to coral bleaching and mortality, threatening biodiversity and \n",
      "fisheries. Pr...\n",
      "\n",
      "Document 3:\n",
      "protection, and habitat creation.  \n",
      "Climate -Resilient Conservation  \n",
      "Conservation strategies must account for climate change impacts to be effective. This \n",
      "includes identifying climate refugia, areas...\n"
     ]
    }
   ],
   "execution_count": 24
  },
  {
   "cell_type": "markdown",
   "metadata": {},
   "source": "### 创建一个基于我们的重排器的自定义检索器"
  },
  {
   "cell_type": "code",
   "metadata": {
    "ExecuteTime": {
     "end_time": "2024-08-25T08:07:26.467943Z",
     "start_time": "2024-08-25T08:07:26.384115Z"
    }
   },
   "source": [
    "# Create a custom retriever class\n",
    "class CustomRetriever(BaseRetriever, BaseModel):\n",
    "    \n",
    "    vectorstore: Any = Field(description=\"Vector store for initial retrieval\")\n",
    "\n",
    "    class Config:\n",
    "        arbitrary_types_allowed = True\n",
    "\n",
    "    def get_relevant_documents(self, query: str, num_docs=2) -> List[Document]:\n",
    "        initial_docs = self.vectorstore.similarity_search(query, k=30)\n",
    "        return rerank_documents(query, initial_docs, top_n=num_docs)\n",
    "\n",
    "\n",
    "# Create the custom retriever\n",
    "custom_retriever = CustomRetriever(vectorstore=vectorstore)\n",
    "\n",
    "# Create an LLM for answering questions\n",
    "llm = ChatOpenAI(temperature=0, model_name=\"gpt-4o\")\n",
    "\n",
    "# Create the RetrievalQA chain with the custom retriever\n",
    "qa_chain = RetrievalQA.from_chain_type(\n",
    "    llm=llm,\n",
    "    chain_type=\"stuff\",\n",
    "    retriever=custom_retriever,\n",
    "    return_source_documents=True\n",
    ")\n"
   ],
   "outputs": [],
   "execution_count": 25
  },
  {
   "cell_type": "markdown",
   "metadata": {},
   "source": [
    "### Example query\n"
   ]
  },
  {
   "cell_type": "code",
   "metadata": {
    "ExecuteTime": {
     "end_time": "2024-08-25T08:07:53.759715Z",
     "start_time": "2024-08-25T08:07:26.468735Z"
    }
   },
   "source": [
    "result = qa_chain({\"query\": query})\n",
    "\n",
    "print(f\"\\nQuestion: {query}\")\n",
    "print(f\"Answer: {result['result']}\")\n",
    "print(\"\\nRelevant source documents:\")\n",
    "for i, doc in enumerate(result[\"source_documents\"]):\n",
    "    print(f\"\\nDocument {i+1}:\")\n",
    "    print(doc.page_content[:200] + \"...\")  # Print first 200 characters of each document"
   ],
   "outputs": [
    {
     "name": "stdout",
     "output_type": "stream",
     "text": [
      "\n",
      "Question: What are the impacts of climate change on biodiversity?\n",
      "Answer: Climate change impacts biodiversity in several significant ways:\n",
      "\n",
      "1. **Shifting Habitat Ranges**: As temperatures rise and precipitation patterns change, many species are forced to migrate to new areas where the climate is more suitable for their survival. This can lead to a shift in habitat ranges, which may not always be possible for all species, particularly those with limited mobility or specific habitat requirements.\n",
      "\n",
      "2. **Changing Species Distributions**: The distribution of plant and animal species is changing as they move to new areas in response to climate changes. This can lead to new interactions between species, some of which may be harmful, such as increased competition for resources or the spread of diseases.\n",
      "\n",
      "3. **Impacting Ecosystem Functions**: Changes in species composition and distribution can disrupt the functions of ecosystems. For example, the loss of key species can affect processes like pollination, seed dispersal, and nutrient cycling, which are essential for ecosystem health and productivity.\n",
      "\n",
      "4. **Loss of Biodiversity**: The combined effects of shifting habitats, changing species distributions, and disrupted ecosystem functions can lead to a loss of biodiversity. This loss can reduce the resilience of ecosystems to environmental changes and decrease the availability of ecosystem services that humans rely on, such as clean water, food, and climate regulation.\n",
      "\n",
      "5. **Disruption of Ecological Balance**: The introduction or loss of species in an ecosystem can disrupt the ecological balance, leading to cascading effects throughout the food web. For example, the decline of a predator species can lead to an overpopulation of prey species, which can then overconsume vegetation and alter the landscape.\n",
      "\n",
      "In marine ecosystems, additional impacts include:\n",
      "\n",
      "1. **Coral Bleaching and Mortality**: Rising sea temperatures and ocean acidification contribute to coral bleaching, where corals expel the symbiotic algae living in their tissues, leading to coral mortality. This threatens the biodiversity of coral reefs, which are home to a vast array of marine species.\n",
      "\n",
      "2. **Disruption of Marine Food Webs**: Changes in sea temperature and acidity can affect the reproductive cycles and migration patterns of marine species, disrupting marine food webs and impacting fisheries.\n",
      "\n",
      "3. **Implications for Human Livelihoods**: The health and survival of various marine species are crucial for commercial fisheries and the livelihoods of people who depend on the ocean. Disruptions in marine ecosystems can have significant economic and social implications.\n",
      "\n",
      "Efforts to mitigate these impacts include reducing CO2 emissions and enhancing marine protected areas, as well as protecting and restoring critical habitats like coral reefs.\n",
      "\n",
      "Relevant source documents:\n",
      "\n",
      "Document 1:\n",
      "Climate change is altering terrestrial ecosystems by shifting habitat ranges, changing species \n",
      "distributions, and impacting ecosystem functions. Forests, grasslands, and deserts are \n",
      "experiencing shi...\n",
      "\n",
      "Document 2:\n",
      "Coral reefs are highly sensitive to changes in temperature and acidity. Ocean acidification \n",
      "and warming waters contribute to coral bleaching and mortality, threatening biodiversity and \n",
      "fisheries. Pr...\n"
     ]
    }
   ],
   "execution_count": 26
  },
  {
   "cell_type": "markdown",
   "metadata": {},
   "source": "### 为什么需要重排？ "
  },
  {
   "cell_type": "code",
   "metadata": {
    "ExecuteTime": {
     "end_time": "2024-08-25T08:08:00.272519Z",
     "start_time": "2024-08-25T08:07:53.763014Z"
    }
   },
   "source": [
    "chunks = [\n",
    "    \"The capital of France is great.\",\n",
    "    \"The capital of France is huge.\",\n",
    "    \"The capital of France is beautiful.\",\n",
    "    \"\"\"Have you ever visited Paris? It is a beautiful city where you can eat delicious food and see the Eiffel Tower. \n",
    "    I really enjoyed all the cities in france, but its capital with the Eiffel Tower is my favorite city.\"\"\", \n",
    "    \"I really enjoyed my trip to Paris, France. The city is beautiful and the food is delicious. I would love to visit again. Such a great capital city.\"\n",
    "]\n",
    "docs = [Document(page_content=sentence) for sentence in chunks]\n",
    "\n",
    "\n",
    "def compare_rag_techniques(query: str, docs: List[Document] = docs) -> None:\n",
    "    embeddings = OpenAIEmbeddings()\n",
    "    vectorstore = FAISS.from_documents(docs, embeddings)\n",
    "\n",
    "    print(\"Comparison of Retrieval Techniques\")\n",
    "    print(\"==================================\")\n",
    "    print(f\"Query: {query}\\n\")\n",
    "    \n",
    "    print(\"Baseline Retrieval Result:\")\n",
    "    baseline_docs = vectorstore.similarity_search(query, k=2)\n",
    "    for i, doc in enumerate(baseline_docs):\n",
    "        print(f\"\\nDocument {i+1}:\")\n",
    "        print(doc.page_content)\n",
    "\n",
    "    print(\"\\nAdvanced Retrieval Result:\")\n",
    "    custom_retriever = CustomRetriever(vectorstore=vectorstore)\n",
    "    advanced_docs = custom_retriever.invoke(query)\n",
    "    for i, doc in enumerate(advanced_docs):\n",
    "        print(f\"\\nDocument {i+1}:\")\n",
    "        print(doc.page_content)\n",
    "\n",
    "\n",
    "query = \"what is the capital of france?\"\n",
    "compare_rag_techniques(query, docs)"
   ],
   "outputs": [
    {
     "name": "stdout",
     "output_type": "stream",
     "text": [
      "Comparison of Retrieval Techniques\n",
      "==================================\n",
      "Query: what is the capital of france?\n",
      "\n",
      "Baseline Retrieval Result:\n",
      "\n",
      "Document 1:\n",
      "The capital of France is great.\n",
      "\n",
      "Document 2:\n",
      "The capital of France is beautiful.\n",
      "\n",
      "Advanced Retrieval Result:\n",
      "\n",
      "Document 1:\n",
      "I really enjoyed my trip to Paris, France. The city is beautiful and the food is delicious. I would love to visit again. Such a great capital city.\n",
      "\n",
      "Document 2:\n",
      "Have you ever visited Paris? It is a beautiful city where you can eat delicious food and see the Eiffel Tower. \n",
      "    I really enjoyed all the cities in france, but its capital with the Eiffel Tower is my favorite city.\n"
     ]
    }
   ],
   "execution_count": 27
  },
  {
   "cell_type": "markdown",
   "metadata": {},
   "source": "## 方法二：交叉编码器模型"
  },
  {
   "cell_type": "markdown",
   "metadata": {},
   "source": [
    "<div style=\"text-align: center;\">\n",
    "\n",
    "<img src=\"../images/rerank_cross_encoder.svg\" alt=\"rerank cross encoder\" style=\"width:40%; height:auto;\">\n",
    "</div>"
   ]
  },
  {
   "cell_type": "markdown",
   "metadata": {},
   "source": "### 定义交叉编码器类"
  },
  {
   "cell_type": "code",
   "metadata": {
    "ExecuteTime": {
     "end_time": "2024-08-25T08:08:01.884454Z",
     "start_time": "2024-08-25T08:08:00.274761Z"
    }
   },
   "source": [
    "cross_encoder = CrossEncoder('cross-encoder/ms-marco-MiniLM-L-6-v2')\n",
    "\n",
    "class CrossEncoderRetriever(BaseRetriever, BaseModel):\n",
    "    vectorstore: Any = Field(description=\"Vector store for initial retrieval\")\n",
    "    cross_encoder: Any = Field(description=\"Cross-encoder model for reranking\")\n",
    "    k: int = Field(default=5, description=\"Number of documents to retrieve initially\")\n",
    "    rerank_top_k: int = Field(default=3, description=\"Number of documents to return after reranking\")\n",
    "\n",
    "    class Config:\n",
    "        arbitrary_types_allowed = True\n",
    "\n",
    "    def get_relevant_documents(self, query: str) -> List[Document]:\n",
    "        # Initial retrieval\n",
    "        initial_docs = self.vectorstore.similarity_search(query, k=self.k)\n",
    "        \n",
    "        # Prepare pairs for cross-encoder\n",
    "        pairs = [[query, doc.page_content] for doc in initial_docs]\n",
    "        \n",
    "        # Get cross-encoder scores\n",
    "        scores = self.cross_encoder.predict(pairs)\n",
    "        \n",
    "        # Sort documents by score\n",
    "        scored_docs = sorted(zip(initial_docs, scores), key=lambda x: x[1], reverse=True)\n",
    "        \n",
    "        # Return top reranked documents\n",
    "        return [doc for doc, _ in scored_docs[:self.rerank_top_k]]\n",
    "\n",
    "    async def aget_relevant_documents(self, query: str) -> List[Document]:\n",
    "        raise NotImplementedError(\"Async retrieval not implemented\")\n",
    "\n"
   ],
   "outputs": [
    {
     "name": "stderr",
     "output_type": "stream",
     "text": [
      "/opt/miniconda3/envs/rag/lib/python3.9/site-packages/transformers/tokenization_utils_base.py:1601: FutureWarning: `clean_up_tokenization_spaces` was not set. It will be set to `True` by default. This behavior will be depracted in transformers v4.45, and will be then set to `False` by default. For more details check this issue: https://github.com/huggingface/transformers/issues/31884\n",
      "  warnings.warn(\n"
     ]
    }
   ],
   "execution_count": 28
  },
  {
   "cell_type": "markdown",
   "metadata": {},
   "source": "### 创建一个实例并在示例上展示"
  },
  {
   "cell_type": "code",
   "metadata": {
    "ExecuteTime": {
     "end_time": "2024-08-25T08:08:07.935356Z",
     "start_time": "2024-08-25T08:08:01.886927Z"
    }
   },
   "source": [
    "# Create the cross-encoder retriever\n",
    "cross_encoder_retriever = CrossEncoderRetriever(\n",
    "    vectorstore=vectorstore,\n",
    "    cross_encoder=cross_encoder,\n",
    "    k=10,  # Retrieve 10 documents initially\n",
    "    rerank_top_k=5  # Return top 5 after reranking\n",
    ")\n",
    "\n",
    "# Set up the LLM\n",
    "llm = ChatOpenAI(temperature=0, model_name=\"gpt-4o\")\n",
    "\n",
    "# Create the RetrievalQA chain with the cross-encoder retriever\n",
    "qa_chain = RetrievalQA.from_chain_type(\n",
    "    llm=llm,\n",
    "    chain_type=\"stuff\",\n",
    "    retriever=cross_encoder_retriever,\n",
    "    return_source_documents=True\n",
    ")\n",
    "\n",
    "# Example query\n",
    "query = \"What are the impacts of climate change on biodiversity?\"\n",
    "result = qa_chain({\"query\": query})\n",
    "\n",
    "print(f\"\\nQuestion: {query}\")\n",
    "print(f\"Answer: {result['result']}\")\n",
    "print(\"\\nRelevant source documents:\")\n",
    "for i, doc in enumerate(result[\"source_documents\"]):\n",
    "    print(f\"\\nDocument {i+1}:\")\n",
    "    print(doc.page_content[:200] + \"...\")  # Print first 200 characters of each document"
   ],
   "outputs": [
    {
     "name": "stdout",
     "output_type": "stream",
     "text": [
      "\n",
      "Question: What are the impacts of climate change on biodiversity?\n",
      "Answer: Climate change impacts biodiversity in several significant ways:\n",
      "\n",
      "1. **Shifting Habitat Ranges**: As temperatures rise and precipitation patterns change, many species are forced to move to new areas where the climate is more suitable for their survival. This can lead to shifts in habitat ranges for both plants and animals.\n",
      "\n",
      "2. **Changing Species Distributions**: The distribution of species is altered as they migrate to new habitats. This can result in the introduction of species to areas where they were previously not found, potentially disrupting existing ecosystems.\n",
      "\n",
      "3. **Impacting Ecosystem Functions**: Changes in species composition and distribution can affect the functions of ecosystems. For example, the loss of key species can disrupt food webs, pollination networks, and other ecological processes.\n",
      "\n",
      "4. **Loss of Biodiversity**: The combined effects of habitat shifts, altered species distributions, and disrupted ecosystem functions can lead to a loss of biodiversity. This loss can reduce the resilience of ecosystems to environmental changes and diminish their ability to provide essential services.\n",
      "\n",
      "5. **Disruption of Ecological Balance**: The introduction or loss of species can disrupt the ecological balance, leading to overpopulation of some species and the decline of others. This can have cascading effects throughout the ecosystem.\n",
      "\n",
      "6. **Marine Ecosystems**: In marine environments, rising sea temperatures, ocean acidification, and changing currents affect marine biodiversity. Species migration and changes in reproductive cycles can disrupt marine food webs and fisheries.\n",
      "\n",
      "Overall, climate change poses a significant threat to biodiversity, necessitating adaptive conservation strategies and the incorporation of biodiversity considerations into climate policies to mitigate these impacts.\n",
      "\n",
      "Relevant source documents:\n",
      "\n",
      "Document 1:\n",
      "Climate change is altering terrestrial ecosystems by shifting habitat ranges, changing species \n",
      "distributions, and impacting ecosystem functions. Forests, grasslands, and deserts are \n",
      "experiencing shi...\n",
      "\n",
      "Document 2:\n",
      "protection, and habitat creation.  \n",
      "Climate -Resilient Conservation  \n",
      "Conservation strategies must account for climate change impacts to be effective. This \n",
      "includes identifying climate refugia, areas...\n",
      "\n",
      "Document 3:\n",
      "goals. Policies should promote synergies between biodiversity conservation and climate \n",
      "action.  \n",
      "Chapter 10: Climate Change and Human Health  \n",
      "Health Impacts  \n",
      "Heat -Related Illnesses  \n",
      "Rising temper...\n",
      "\n",
      "Document 4:\n",
      "cultural perceptions.  \n",
      "Youth Engagement  \n",
      "Youth are vital stakeholders in climate action. Empowering young people through education, \n",
      "activism, and leadership opportunities can drive transformative c...\n",
      "\n",
      "Document 5:\n",
      "Local communities are often on the front lines of climate impacts and can be powerful agents \n",
      "of change. Community -based conservation projects involve residents in protecting and \n",
      "restoring natural r...\n"
     ]
    }
   ],
   "execution_count": 29
  }
 ],
 "metadata": {
  "kernelspec": {
   "display_name": "Python 3 (ipykernel)",
   "language": "python",
   "name": "python3"
  },
  "language_info": {
   "codemirror_mode": {
    "name": "ipython",
    "version": 3
   },
   "file_extension": ".py",
   "mimetype": "text/x-python",
   "name": "python",
   "nbconvert_exporter": "python",
   "pygments_lexer": "ipython3",
   "version": "3.12.0"
  }
 },
 "nbformat": 4,
 "nbformat_minor": 2
}

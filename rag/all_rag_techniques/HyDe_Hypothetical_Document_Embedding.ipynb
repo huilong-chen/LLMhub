{
 "cells": [
  {
   "cell_type": "markdown",
   "metadata": {},
   "source": [
    "### 假设性文档嵌入（HyDE）在文档检索中的应用\n",
    "\n",
    "#### 概述\n",
    "\n",
    "本代码实现了一个用于文档检索的假设性文档嵌入（HyDE）系统。HyDE是一种创新方法，将查询问题转换为包含答案的假设性文档，旨在弥合向量空间中查询和文档分布之间的差距。\n",
    "\n",
    "#### 动机\n",
    "\n",
    "传统的检索方法常常难以处理简短查询与更长、更详细的文档之间的语义差距。HyDE通过将查询扩展为完整的假设性文档来解决这个问题，通过使查询表示与向量空间中的文档表示更相似，可能提高检索的相关性。\n",
    "\n",
    "#### 关键组件\n",
    "\n",
    "1. PDF处理和文本分块\n",
    "2. 使用FAISS和OpenAI嵌入创建向量存储\n",
    "3. 生成假设性文档的语言模型\n",
    "4. 实现HyDE技术的自定义HyDERetriever类\n",
    "\n",
    "#### 方法细节\n",
    "\n",
    "### 文档预处理和向量存储创建\n",
    "\n",
    "1. 处理PDF并将其分割成块。\n",
    "2. 使用OpenAI嵌入创建FAISS向量存储，以实现高效的相似性搜索。\n",
    "\n",
    "### 假设性文档生成\n",
    "\n",
    "1. 使用语言模型（GPT-4）生成回答给定查询的假设性文档。\n",
    "2. 生成过程由提示模板引导，确保假设性文档详细且与向量存储中使用的块大小相匹配。\n",
    "\n",
    "### 检索过程\n",
    "\n",
    "`HyDERetriever`类实现了以下步骤：\n",
    "\n",
    "1. 使用语言模型从查询生成假设性文档。\n",
    "2. 将假设性文档用作向量存储中的搜索查询。\n",
    "3. 检索与此假设性文档最相似的文档。\n",
    "\n",
    "#### 核心特性\n",
    "\n",
    "1. 查询扩展：将简短查询转换为详细的假设性文档。\n",
    "2. 灵活配置：允许调整块大小、重叠和检索文档的数量。\n",
    "3. 与OpenAI模型集成：使用GPT-4生成假设性文档，使用OpenAI嵌入进行向量表示。\n",
    "\n",
    "#### 这种方法的好处\n",
    "\n",
    "1. 提高相关性：通过将查询扩展为完整文档，HyDE可能捕捉到更微妙和相关的匹配。\n",
    "2. 处理复杂查询：对于可能难以直接匹配的复杂或多方面的查询特别有用。\n",
    "3. 适应性：假设性文档生成可以适应不同类型的查询和文档领域。\n",
    "4. 潜在的更好上下文理解：扩展的查询可能更好地捕捉原始问题背后的上下文和意图。\n",
    "\n",
    "#### 实施细节\n",
    "\n",
    "1. 使用OpenAI的ChatGPT模型生成假设性文档。\n",
    "2. 采用FAISS在向量空间中进行高效的相似性搜索。\n",
    "3. 允许轻松可视化假设性文档和检索结果。\n",
    "\n",
    "#### 结论\n",
    "\n",
    "假设性文档嵌入（HyDE）代表了文档检索的一种创新方法，解决了查询和文档之间的语义差距。通过利用先进的语言模型将查询扩展为假设性文档，HyDE有潜力显著提高检索的相关性，特别是对于复杂或微妙的查询。这种技术在理解查询意图和上下文至关重要的领域可能特别有价值，如法律研究、学术文献回顾或高级信息检索系统。\n"
   ]
  },
  {
   "cell_type": "markdown",
   "metadata": {},
   "source": [
    "<div style=\"text-align: center;\">\n",
    "\n",
    "<img src=\"../images/HyDe.svg\" alt=\"HyDe\" style=\"width:40%; height:auto;\">\n",
    "</div>"
   ]
  },
  {
   "cell_type": "markdown",
   "metadata": {},
   "source": [
    "### Import libraries"
   ]
  },
  {
   "cell_type": "code",
   "metadata": {
    "ExecuteTime": {
     "end_time": "2024-08-25T09:07:56.248486Z",
     "start_time": "2024-08-25T09:07:56.244539Z"
    }
   },
   "source": [
    "import os\n",
    "import sys\n",
    "from dotenv import load_dotenv\n",
    "\n",
    "# Load environment variables from a .env file\n",
    "load_dotenv()\n",
    "\n",
    "sys.path.append(os.path.abspath(os.path.join(os.getcwd(), '..'))) # Add the parent directory to the path sicnce we work with notebooks\n",
    "from rag.helper_functions import *\n",
    "from rag.evaluation.evalute_rag import *\n",
    "\n",
    "# Set the OpenAI API key environment variable\n",
    "os.environ[\"OPENAI_API_KEY\"] = os.getenv('OPENAI_API_KEY')"
   ],
   "outputs": [],
   "execution_count": 14
  },
  {
   "cell_type": "markdown",
   "metadata": {},
   "source": [
    "### Define document(s) path"
   ]
  },
  {
   "cell_type": "code",
   "metadata": {
    "ExecuteTime": {
     "end_time": "2024-08-25T09:07:56.251344Z",
     "start_time": "2024-08-25T09:07:56.249584Z"
    }
   },
   "source": [
    "path = \"../data/Understanding_Climate_Change.pdf\""
   ],
   "outputs": [],
   "execution_count": 15
  },
  {
   "cell_type": "markdown",
   "metadata": {},
   "source": "### 定义HyDe检索器类 - 创建向量存储、生成假设性文档和检索"
  },
  {
   "cell_type": "code",
   "metadata": {
    "ExecuteTime": {
     "end_time": "2024-08-25T09:07:56.257187Z",
     "start_time": "2024-08-25T09:07:56.253575Z"
    }
   },
   "source": [
    "class HyDERetriever:\n",
    "    def __init__(self, files_path, chunk_size=500, chunk_overlap=100):\n",
    "        self.llm = ChatOpenAI(temperature=0, model_name=\"gpt-4o-mini\", max_tokens=4000)\n",
    "\n",
    "        self.embeddings = OpenAIEmbeddings()\n",
    "        self.chunk_size = chunk_size\n",
    "        self.chunk_overlap = chunk_overlap\n",
    "        self.vectorstore = encode_pdf(files_path, chunk_size=self.chunk_size, chunk_overlap=self.chunk_overlap)\n",
    "    \n",
    "        \n",
    "        self.hyde_prompt = PromptTemplate(\n",
    "            input_variables=[\"query\", \"chunk_size\"],\n",
    "            template=\"\"\"Given the question '{query}', generate a hypothetical document that directly answers this question. The document should be detailed and in-depth.\n",
    "            the document size has be exactly {chunk_size} characters.\"\"\",\n",
    "        )\n",
    "        self.hyde_chain = self.hyde_prompt | self.llm\n",
    "\n",
    "    def generate_hypothetical_document(self, query):\n",
    "        input_variables = {\"query\": query, \"chunk_size\": self.chunk_size}\n",
    "        return self.hyde_chain.invoke(input_variables).content\n",
    "\n",
    "    def retrieve(self, query, k=3):\n",
    "        hypothetical_doc = self.generate_hypothetical_document(query)\n",
    "        similar_docs = self.vectorstore.similarity_search(hypothetical_doc, k=k)\n",
    "        return similar_docs, hypothetical_doc\n"
   ],
   "outputs": [],
   "execution_count": 16
  },
  {
   "cell_type": "markdown",
   "metadata": {},
   "source": "### 创建一个 HyDe 的检索器实例"
  },
  {
   "cell_type": "code",
   "metadata": {
    "ExecuteTime": {
     "end_time": "2024-08-25T09:07:59.497436Z",
     "start_time": "2024-08-25T09:07:56.261277Z"
    }
   },
   "source": [
    "retriever = HyDERetriever(path)"
   ],
   "outputs": [],
   "execution_count": 17
  },
  {
   "cell_type": "markdown",
   "metadata": {},
   "source": "### 例子"
  },
  {
   "cell_type": "code",
   "metadata": {
    "ExecuteTime": {
     "end_time": "2024-08-25T09:08:02.573062Z",
     "start_time": "2024-08-25T09:07:59.498919Z"
    }
   },
   "source": [
    "test_query = \"What is the main cause of climate change?\"\n",
    "results, hypothetical_doc = retriever.retrieve(test_query)"
   ],
   "outputs": [],
   "execution_count": 18
  },
  {
   "cell_type": "markdown",
   "metadata": {},
   "source": "### 绘制假设性文档和检索到的文档"
  },
  {
   "cell_type": "code",
   "metadata": {
    "ExecuteTime": {
     "end_time": "2024-08-25T09:08:02.581333Z",
     "start_time": "2024-08-25T09:08:02.575885Z"
    }
   },
   "source": [
    "docs_content = [doc.page_content for doc in results]\n",
    "\n",
    "print(\"hypothetical_doc:\\n\")\n",
    "print(text_wrap(hypothetical_doc)+\"\\n\")\n",
    "show_context(docs_content)"
   ],
   "outputs": [
    {
     "name": "stdout",
     "output_type": "stream",
     "text": [
      "hypothetical_doc:\n",
      "\n",
      "**The Main Cause of Climate Change**  Climate change primarily results from human activities, particularly the burning\n",
      "of fossil fuels such as coal, oil, and natural gas. This process releases significant amounts of carbon dioxide (CO2)\n",
      "and other greenhouse gases into the atmosphere. Deforestation exacerbates the issue by reducing the number of trees that\n",
      "can absorb CO2. Industrial processes, agriculture, and waste management also contribute to greenhouse gas emissions.\n",
      "These gases trap heat, leading to global warming, altered weather patterns, and severe environmental impacts,\n",
      "necessitating urgent action to mitigate these effects.\n",
      "\n",
      "Context 1:\n",
      "predict future trends. The evidence overwhelmingly shows that recent changes are primarily \n",
      "driven by human activities, particularly the emission of greenhou se gases.  \n",
      "Chapter 2: Causes of Climate Change  \n",
      "Greenhouse Gases  \n",
      "The primary cause of recent climate change is the increase in greenhouse gases in the \n",
      "atmosphere. Greenhouse gases, such as carbon dioxide (CO2), methane (CH4), and nitrous \n",
      "oxide (N2O), trap heat from the sun, creating a \"greenhouse effect.\" This effect is  essential\n",
      "\n",
      "\n",
      "Context 2:\n",
      "oxide (N2O), trap heat from the sun, creating a \"greenhouse effect.\" This effect is  essential \n",
      "for life on Earth, as it keeps the planet warm enough to support life. However, human \n",
      "activities have intensified this natural process, leading to a warmer climate.  \n",
      "Fossil Fuels  \n",
      "Burning fossil fuels for energy releases large amounts of CO2. This includes coal, oil, and \n",
      "natural gas used for electricity, heating, and transportation. The industrial revolution marked\n",
      "\n",
      "\n",
      "Context 3:\n",
      "Understanding Climate Change  \n",
      "Chapter 1: Introduction to Climate Change  \n",
      "Climate change refers to significant, long -term changes in the global climate. The term \n",
      "\"global climate\" encompasses the planet's overall weather patterns, including temperature, \n",
      "precipitation, and wind patterns, over an extended period. Over the past cent ury, human \n",
      "activities, particularly the burning of fossil fuels and deforestation, have significantly \n",
      "contributed to climate change.  \n",
      "Historical Context\n",
      "\n",
      "\n"
     ]
    }
   ],
   "execution_count": 19
  }
 ],
 "metadata": {
  "kernelspec": {
   "display_name": ".venv",
   "language": "python",
   "name": "python3"
  },
  "language_info": {
   "codemirror_mode": {
    "name": "ipython",
    "version": 3
   },
   "file_extension": ".py",
   "mimetype": "text/x-python",
   "name": "python",
   "nbconvert_exporter": "python",
   "pygments_lexer": "ipython3",
   "version": "3.12.0"
  }
 },
 "nbformat": 4,
 "nbformat_minor": 2
}

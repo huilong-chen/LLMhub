{
 "cells": [
  {
   "cell_type": "markdown",
   "metadata": {},
   "source": [
    "# 查询转换以改进 RAG 系统中的检索\n",
    "\n",
    "## 概述\n",
    "\n",
    "此代码实现了三种查询转换技术，以增强检索增强型生成（Retrieval-Augmented Generation, RAG）系统中的检索过程：\n",
    "\n",
    "1. 查询重写\n",
    "2. 回退提示\n",
    "3. 子查询分解\n",
    "\n",
    "每种技术都旨在通过修改或扩展原始查询来提高检索到的信息的相关性和全面性。\n",
    "\n",
    "## 动机\n",
    "\n",
    "RAG 系统在检索最相关信息时经常面临挑战，尤其是在处理复杂或模糊的查询时。这些查询转换技术通过重新制定查询以更好地匹配相关文档或检索更全面的信息来解决这个问题。\n",
    "\n",
    "## 关键组件\n",
    "\n",
    "1. 查询重写：重新制定查询，使其更具体和详细。\n",
    "2. 回退提示：生成更广泛的查询以更好地检索背景信息。\n",
    "3. 子查询分解：将复杂查询分解为更简单的子查询。\n",
    "\n",
    "## 方法细节\n",
    "\n",
    "### 1. 查询重写\n",
    "\n",
    "- **目的**：使查询更具体和详细，提高检索到相关信息的可能性。\n",
    "- **实现**：\n",
    "  - 使用带有自定义提示模板的 GPT-4 模型。\n",
    "  - 采用原始查询并重新制定，使其更具体和详细。\n",
    "\n",
    "### 2. 回退提示\n",
    "\n",
    "- **目的**：生成更广泛、更一般的查询，有助于检索相关的背景信息。\n",
    "- **实现**：\n",
    "  - 使用带有自定义提示模板的 GPT-4 模型。\n",
    "  - 采用原始查询并生成更一般的\"回退\"查询。\n",
    "\n",
    "### 3. 子查询分解\n",
    "\n",
    "- **目的**：将复杂查询分解为更简单的子查询，以实现更全面的信息检索。\n",
    "- **实现**：\n",
    "  - 使用带有自定义提示模板的 GPT-4 模型。\n",
    "  - 将原始查询分解为 2-4 个更简单的子查询。\n",
    "\n",
    "## 这些方法的好处\n",
    "\n",
    "1. **提高相关性**：查询重写有助于检索更具体和相关的信息。\n",
    "2. **更好的上下文**：回退提示允许检索更广泛的上下文和背景信息。\n",
    "3. **全面的结果**：子查询分解能够检索到涵盖复杂查询不同方面的信息。\n",
    "4. **灵活性**：每种技术可以独立使用或根据特定用例组合使用。\n",
    "\n",
    "## 实现细节\n",
    "\n",
    "- 所有技术都使用 OpenAI 的 GPT-4 模型进行查询转换。\n",
    "- 使用自定义提示模板引导模型生成适当的转换。\n",
    "- 代码为每种转换技术提供了单独的函数，便于集成到现有的 RAG 系统中。\n",
    "\n",
    "## 示例用例\n",
    "\n",
    "代码使用示例查询演示了每种技术：\n",
    "\"气候变化对环境有什么影响？\"\n",
    "\n",
    "- **查询重写**将其扩展到包括温度变化和生物多样性等特定方面。\n",
    "- **回退提示**将其概括为\"气候变化的一般影响是什么？\"\n",
    "- **子查询分解**将其分解为关于生物多样性、海洋、天气模式和陆地环境的问题。\n",
    "\n",
    "## 结论\n",
    "\n",
    "这些查询转换技术为增强 RAG 系统的检索能力提供了强大的方法。通过以各种方式重新制定查询，它们可以显著提高检索到的信息的相关性、上下文和全面性。这些方法在查询可能复杂或多方面的领域特别有价值，如科学研究、法律分析或全面的事实发现任务。\n"
   ]
  },
  {
   "cell_type": "markdown",
   "metadata": {},
   "source": [
    "### Import libraries and set environment variables"
   ]
  },
  {
   "cell_type": "code",
   "metadata": {
    "ExecuteTime": {
     "end_time": "2024-08-25T08:22:28.356883Z",
     "start_time": "2024-08-25T08:22:27.894210Z"
    }
   },
   "source": [
    "from langchain_openai import ChatOpenAI\n",
    "from langchain.prompts import PromptTemplate\n",
    "\n",
    "import os\n",
    "from dotenv import load_dotenv\n",
    "\n",
    "# Load environment variables from a .env file\n",
    "load_dotenv()\n",
    "\n",
    "# Set the OpenAI API key environment variable\n",
    "os.environ[\"OPENAI_API_KEY\"] = os.getenv('OPENAI_API_KEY')"
   ],
   "outputs": [],
   "execution_count": 1
  },
  {
   "metadata": {},
   "cell_type": "markdown",
   "source": ""
  },
  {
   "cell_type": "markdown",
   "metadata": {},
   "source": "### 1 - 查询重写:重新定义查询以改进检索。"
  },
  {
   "cell_type": "code",
   "metadata": {
    "ExecuteTime": {
     "end_time": "2024-08-25T08:24:37.386918Z",
     "start_time": "2024-08-25T08:24:37.291027Z"
    }
   },
   "source": [
    "re_write_llm = ChatOpenAI(temperature=0, model_name=\"gpt-4o\", max_tokens=4000)\n",
    "\n",
    "# Create a prompt template for query rewriting\n",
    "query_rewrite_template = \"\"\"You are an AI assistant tasked with reformulating user queries to improve retrieval in a RAG system. \n",
    "Given the original query, rewrite it to be more specific, detailed, and likely to retrieve relevant information.\n",
    "\n",
    "Original query: {original_query}\n",
    "\n",
    "Rewritten query:\"\"\"\n",
    "\n",
    "query_rewrite_prompt = PromptTemplate(\n",
    "    input_variables=[\"original_query\"],\n",
    "    template=query_rewrite_template\n",
    ")\n",
    "\n",
    "# Create an LLMChain for query rewriting\n",
    "query_rewriter = query_rewrite_prompt | re_write_llm\n",
    "\n",
    "def rewrite_query(original_query):\n",
    "    \"\"\"\n",
    "    重写原始查询以改进检索。\n",
    "    \n",
    "    参数:\n",
    "    original_query (str):原始用户查询\n",
    "    \n",
    "    返回:\n",
    "    str:重写的查询\n",
    "    \"\"\"\n",
    "    response = query_rewriter.invoke(original_query)\n",
    "    return response.content"
   ],
   "outputs": [],
   "execution_count": 2
  },
  {
   "cell_type": "markdown",
   "metadata": {},
   "source": "### 例子"
  },
  {
   "cell_type": "code",
   "metadata": {
    "ExecuteTime": {
     "end_time": "2024-08-25T08:25:00.997986Z",
     "start_time": "2024-08-25T08:24:58.995262Z"
    }
   },
   "source": [
    "# example query over the understanding climate change dataset\n",
    "original_query = \"What are the impacts of climate change on the environment?\"\n",
    "rewritten_query = rewrite_query(original_query)\n",
    "print(\"Original query:\", original_query)\n",
    "print(\"\\nRewritten query:\", rewritten_query)"
   ],
   "outputs": [
    {
     "name": "stdout",
     "output_type": "stream",
     "text": [
      "Original query: What are the impacts of climate change on the environment?\n",
      "\n",
      "Rewritten query: How does climate change affect various aspects of the environment, such as biodiversity, sea levels, weather patterns, and ecosystems?\n"
     ]
    }
   ],
   "execution_count": 3
  },
  {
   "cell_type": "markdown",
   "metadata": {},
   "source": "### 2 - 退步提示: 生成更广泛的查询以获得更好的上下文检索。"
  },
  {
   "cell_type": "code",
   "metadata": {
    "ExecuteTime": {
     "end_time": "2024-08-25T08:26:21.081532Z",
     "start_time": "2024-08-25T08:26:20.998161Z"
    }
   },
   "source": [
    "step_back_llm = ChatOpenAI(temperature=0, model_name=\"gpt-4o\", max_tokens=4000)\n",
    "\n",
    "\n",
    "# Create a prompt template for step-back prompting\n",
    "step_back_template = \"\"\"You are an AI assistant tasked with generating broader, more general queries to improve context retrieval in a RAG system.\n",
    "Given the original query, generate a step-back query that is more general and can help retrieve relevant background information.\n",
    "\n",
    "Original query: {original_query}\n",
    "\n",
    "Step-back query:\"\"\"\n",
    "\n",
    "step_back_prompt = PromptTemplate(\n",
    "    input_variables=[\"original_query\"],\n",
    "    template=step_back_template\n",
    ")\n",
    "\n",
    "# Create an LLMChain for step-back prompting\n",
    "step_back_chain = step_back_prompt | step_back_llm\n",
    "\n",
    "def generate_step_back_query(original_query):\n",
    "    \"\"\"\n",
    "    Generate a step-back query to retrieve broader context.\n",
    "    \n",
    "    Args:\n",
    "    original_query (str): The original user query\n",
    "    \n",
    "    Returns:\n",
    "    str: The step-back query\n",
    "    \"\"\"\n",
    "    response = step_back_chain.invoke(original_query)\n",
    "    return response.content"
   ],
   "outputs": [],
   "execution_count": 4
  },
  {
   "cell_type": "markdown",
   "metadata": {},
   "source": "### 例子"
  },
  {
   "cell_type": "code",
   "metadata": {
    "ExecuteTime": {
     "end_time": "2024-08-25T08:26:29.233540Z",
     "start_time": "2024-08-25T08:26:28.163071Z"
    }
   },
   "source": [
    "# example query over the understanding climate change dataset\n",
    "original_query = \"What are the impacts of climate change on the environment?\"\n",
    "step_back_query = generate_step_back_query(original_query)\n",
    "print(\"Original query:\", original_query)\n",
    "print(\"\\nStep-back query:\", step_back_query)"
   ],
   "outputs": [
    {
     "name": "stdout",
     "output_type": "stream",
     "text": [
      "Original query: What are the impacts of climate change on the environment?\n",
      "\n",
      "Step-back query: What are the general effects of climate change?\n"
     ]
    }
   ],
   "execution_count": 5
  },
  {
   "cell_type": "markdown",
   "metadata": {},
   "source": "### 3 - 子查询分解: 将复杂查询分解为更简单的子查询。"
  },
  {
   "cell_type": "code",
   "metadata": {
    "ExecuteTime": {
     "end_time": "2024-08-25T08:27:48.811016Z",
     "start_time": "2024-08-25T08:27:48.720568Z"
    }
   },
   "source": [
    "sub_query_llm = ChatOpenAI(temperature=0, model_name=\"gpt-4o\", max_tokens=4000)\n",
    "\n",
    "# Create a prompt template for sub-query decomposition\n",
    "subquery_decomposition_template = \"\"\"You are an AI assistant tasked with breaking down complex queries into simpler sub-queries for a RAG system.\n",
    "Given the original query, decompose it into 2-4 simpler sub-queries that, when answered together, would provide a comprehensive response to the original query.\n",
    "\n",
    "Original query: {original_query}\n",
    "\n",
    "example: What are the impacts of climate change on the environment?\n",
    "\n",
    "Sub-queries:\n",
    "1. What are the impacts of climate change on biodiversity?\n",
    "2. How does climate change affect the oceans?\n",
    "3. What are the effects of climate change on agriculture?\n",
    "4. What are the impacts of climate change on human health?\"\"\"\n",
    "\n",
    "\n",
    "subquery_decomposition_prompt = PromptTemplate(\n",
    "    input_variables=[\"original_query\"],\n",
    "    template=subquery_decomposition_template\n",
    ")\n",
    "\n",
    "# Create an LLMChain for sub-query decomposition\n",
    "subquery_decomposer_chain = subquery_decomposition_prompt | sub_query_llm\n",
    "\n",
    "def decompose_query(original_query: str):\n",
    "    \"\"\"\n",
    "    Decompose the original query into simpler sub-queries.\n",
    "    \n",
    "    Args:\n",
    "    original_query (str): The original complex query\n",
    "    \n",
    "    Returns:\n",
    "    List[str]: A list of simpler sub-queries\n",
    "    \"\"\"\n",
    "    response = subquery_decomposer_chain.invoke(original_query).content\n",
    "    sub_queries = [q.strip() for q in response.split('\\n') if q.strip() and not q.strip().startswith('Sub-queries:')]\n",
    "    return sub_queries"
   ],
   "outputs": [],
   "execution_count": 6
  },
  {
   "cell_type": "markdown",
   "metadata": {},
   "source": "### 例子"
  },
  {
   "cell_type": "code",
   "metadata": {
    "ExecuteTime": {
     "end_time": "2024-08-25T08:28:02.337285Z",
     "start_time": "2024-08-25T08:28:00.288862Z"
    }
   },
   "source": [
    "# example query over the understanding climate change dataset\n",
    "original_query = \"What are the impacts of climate change on the environment?\"\n",
    "sub_queries = decompose_query(original_query)\n",
    "print(\"\\nSub-queries:\")\n",
    "for i, sub_query in enumerate(sub_queries, 1):\n",
    "    print(sub_query)"
   ],
   "outputs": [
    {
     "name": "stdout",
     "output_type": "stream",
     "text": [
      "\n",
      "Sub-queries:\n",
      "Original query: What are the impacts of climate change on the environment?\n",
      "1. How does climate change affect biodiversity and ecosystems?\n",
      "2. What are the impacts of climate change on ocean temperatures and sea levels?\n",
      "3. How does climate change influence weather patterns and extreme weather events?\n",
      "4. What are the effects of climate change on agriculture and food production?\n"
     ]
    }
   ],
   "execution_count": 7
  },
  {
   "metadata": {},
   "cell_type": "code",
   "outputs": [],
   "execution_count": null,
   "source": ""
  }
 ],
 "metadata": {
  "kernelspec": {
   "display_name": ".venv",
   "language": "python",
   "name": "python3"
  },
  "language_info": {
   "codemirror_mode": {
    "name": "ipython",
    "version": 3
   },
   "file_extension": ".py",
   "mimetype": "text/x-python",
   "name": "python",
   "nbconvert_exporter": "python",
   "pygments_lexer": "ipython3",
   "version": "3.12.0"
  }
 },
 "nbformat": 4,
 "nbformat_minor": 2
}
